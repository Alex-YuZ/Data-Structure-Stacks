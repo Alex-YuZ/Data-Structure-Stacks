{
 "cells": [
  {
   "cell_type": "markdown",
   "metadata": {},
   "source": [
    "# Implement a stack using an array"
   ]
  },
  {
   "cell_type": "markdown",
   "metadata": {},
   "source": [
    "## Functionality\n",
    "Implement a `Stack` class that has the following behaviors:\n",
    "\n",
    "1. `push` - adds an item to the top of the stack\n",
    "2. `pop` - removes an item from the top of the stack (and returns the value of that item)\n",
    "3. `size` - returns the size of the stack\n",
    "4. `top` - returns the value of the item at the top of stack (without removing that item)\n",
    "5. `is_empty` - returns `True` if the stack is empty and `False` otherwise"
   ]
  },
  {
   "cell_type": "code",
   "execution_count": 43,
   "metadata": {},
   "outputs": [],
   "source": [
    "class Stack:\n",
    "    \n",
    "    def __init__(self, initial_size = 10):\n",
    "        self.arr = [0 for _ in range(initial_size)]\n",
    "        self.next_index = 0\n",
    "        self.num_elements = 0\n",
    "        \n",
    "    def push(self, data):\n",
    "        if self.next_index == len(self.arr):\n",
    "            print(\"Out of space! Increasing array capacity ...\")\n",
    "            self._handle_stack_capacity_full()\n",
    "            \n",
    "        self.arr[self.next_index] = data\n",
    "        self.next_index += 1\n",
    "        self.num_elements += 1\n",
    "        \n",
    "    def _handle_stack_capacity_full(self):\n",
    "        old_arr = self.arr\n",
    "        \n",
    "        self.arr = [0 for _ in range(len(self.arr) * 2)]\n",
    "        for idx, ele in enumerate(old_arr):\n",
    "            self.arr[idx] = ele\n",
    "        \n",
    "    def pop(self):\n",
    "        if self.is_empty():\n",
    "            self.next_index = 0\n",
    "            return None\n",
    "        \n",
    "        self.next_index -= 1\n",
    "        self.num_elements -= 1\n",
    "        return self.arr[self.next_index]\n",
    "    \n",
    "    def is_empty(self):\n",
    "        return self.num_elements == 0\n",
    "    \n",
    "    def size(self):\n",
    "        return self.num_elements\n",
    "    \n",
    "    "
   ]
  },
  {
   "cell_type": "code",
   "execution_count": 44,
   "metadata": {},
   "outputs": [
    {
     "name": "stdout",
     "output_type": "stream",
     "text": [
      "Out of space! Increasing array capacity ...\n"
     ]
    },
    {
     "data": {
      "text/plain": [
       "[1, 2, 3, 4, 5, 6, 7, 8, 9, 10, 11, 0, 0, 0, 0, 0, 0, 0, 0, 0]"
      ]
     },
     "execution_count": 44,
     "metadata": {},
     "output_type": "execute_result"
    }
   ],
   "source": [
    "foo = Stack()\n",
    "foo.push(1)\n",
    "foo.push(2)\n",
    "foo.push(3)\n",
    "foo.push(4)\n",
    "foo.push(5)\n",
    "foo.push(6)\n",
    "foo.push(7)\n",
    "foo.push(8)\n",
    "foo.push(9)\n",
    "foo.push(10)\n",
    "foo.push(11)\n",
    "foo.arr"
   ]
  },
  {
   "cell_type": "code",
   "execution_count": 33,
   "metadata": {},
   "outputs": [
    {
     "name": "stdout",
     "output_type": "stream",
     "text": [
      "Test\n",
      "None\n"
     ]
    }
   ],
   "source": [
    "foo = Stack()\n",
    "foo.push(\"Test\") # We first have to push an item so that we'll have something to pop\n",
    "print(foo.pop()) # Should return the popped item, which is \"Test\"\n",
    "print(foo.pop()) # Should return None, since there's nothing left in the stack"
   ]
  },
  {
   "cell_type": "code",
   "execution_count": 45,
   "metadata": {},
   "outputs": [
    {
     "data": {
      "text/plain": [
       "[1, 2, 3, 4, 5, 6, 7, 8, 9, 10, 11, 0, 0, 0, 0, 0, 0, 0, 0, 0]"
      ]
     },
     "execution_count": 45,
     "metadata": {},
     "output_type": "execute_result"
    }
   ],
   "source": [
    "foo.arr"
   ]
  },
  {
   "cell_type": "code",
   "execution_count": 46,
   "metadata": {},
   "outputs": [
    {
     "data": {
      "text/plain": [
       "11"
      ]
     },
     "execution_count": 46,
     "metadata": {},
     "output_type": "execute_result"
    }
   ],
   "source": [
    "foo.pop()"
   ]
  },
  {
   "cell_type": "code",
   "execution_count": 47,
   "metadata": {},
   "outputs": [
    {
     "data": {
      "text/plain": [
       "10"
      ]
     },
     "execution_count": 47,
     "metadata": {},
     "output_type": "execute_result"
    }
   ],
   "source": [
    "foo.next_index"
   ]
  },
  {
   "cell_type": "code",
   "execution_count": 48,
   "metadata": {},
   "outputs": [
    {
     "data": {
      "text/plain": [
       "10"
      ]
     },
     "execution_count": 48,
     "metadata": {},
     "output_type": "execute_result"
    }
   ],
   "source": [
    "foo.next_index"
   ]
  },
  {
   "cell_type": "code",
   "execution_count": 49,
   "metadata": {},
   "outputs": [
    {
     "data": {
      "text/plain": [
       "10"
      ]
     },
     "execution_count": 49,
     "metadata": {},
     "output_type": "execute_result"
    }
   ],
   "source": [
    "foo.pop()"
   ]
  },
  {
   "cell_type": "code",
   "execution_count": 50,
   "metadata": {},
   "outputs": [
    {
     "data": {
      "text/plain": [
       "9"
      ]
     },
     "execution_count": 50,
     "metadata": {},
     "output_type": "execute_result"
    }
   ],
   "source": [
    "foo.next_index"
   ]
  },
  {
   "cell_type": "markdown",
   "metadata": {},
   "source": [
    "# Implement a stack using a linked list"
   ]
  },
  {
   "cell_type": "markdown",
   "metadata": {},
   "source": [
    "## Time complexity of stacks using linked lists\n",
    "\n",
    "Notice that if we pop or push an element with this stack, there's no traversal. We simply add or remove the item from the head of the linked list, and update the `head` reference. <b><font color='red'>So with our linked list implementaion, `pop` and `push` have a time complexity of O(1).</font></b>\n",
    "\n",
    "Also notice that using a linked list avoids the issue we ran into when we implemented our stack using an array. In that case, adding an item to the stack was fine—until we ran out of space. Then we would have to create an entirely new (larger) array and copy over all of the references from the old array.\n",
    "\n",
    "That happened because, with an array, we had to specify some initial size (in other words, we had to set aside a contiguous block of memory in advance). But with a linked list, the nodes do not need to be contiguous. They can be scattered in different locations of memory, and that works just fine. This means that with a linked list, we can simply append as many nodes as we like. Using that as the underlying data structure for our stack means that we never run out of capacity, so pushing and popping items will always have a time complexity of O(1)."
   ]
  },
  {
   "cell_type": "code",
   "execution_count": 77,
   "metadata": {},
   "outputs": [],
   "source": [
    "class Node():\n",
    "    def __init__(self, value):\n",
    "        self.value = value\n",
    "        self.next = None\n",
    "\n",
    "        \n",
    "class Stack():\n",
    "    \n",
    "    def __init__(self):\n",
    "        self.head = None\n",
    "        self.num_elements = 0\n",
    "        \n",
    "    def push(self, value):\n",
    "        new_node = Node(value)        \n",
    "        # if stack is empty\n",
    "        if self.head is None:\n",
    "            self.head = new_node\n",
    "        else:\n",
    "            new_node.next = self.head    # place the new node at the head of the linked list (top)\n",
    "            self.head = new_node\n",
    "\n",
    "        self.num_elements += 1\n",
    "        \n",
    "    def size(self):\n",
    "        return self.num_elements\n",
    "    \n",
    "    def is_empty(self):\n",
    "        return self.num_elements == 0\n",
    "    \n",
    "    def pop(self):\n",
    "        if self.is_empty():\n",
    "            return None\n",
    "\n",
    "        pop_val = self.head.value\n",
    "        self.head = self.head.next\n",
    "        self.num_elements -= 1\n",
    "\n",
    "        return pop_val"
   ]
  },
  {
   "cell_type": "code",
   "execution_count": 78,
   "metadata": {},
   "outputs": [
    {
     "name": "stdout",
     "output_type": "stream",
     "text": [
      "Pass\n",
      "Pass\n",
      "Pass\n",
      "Pass\n",
      "Pass\n",
      "Pass\n"
     ]
    }
   ],
   "source": [
    "# Setup\n",
    "stack = Stack()\n",
    "stack.push(10)\n",
    "stack.push(20)\n",
    "stack.push(30)\n",
    "stack.push(40)\n",
    "stack.push(50)\n",
    "\n",
    "# Test size\n",
    "print (\"Pass\" if (stack.size() == 5) else \"Fail\")\n",
    "\n",
    "# Test pop\n",
    "print (\"Pass\" if (stack.pop() == 50) else \"Fail\")\n",
    "\n",
    "# Test push\n",
    "stack.push(60)\n",
    "print (\"Pass\" if (stack.pop() == 60) else \"Fail\")\n",
    "print (\"Pass\" if (stack.pop() == 40) else \"Fail\")\n",
    "print (\"Pass\" if (stack.pop() == 30) else \"Fail\")\n",
    "stack.push(50)\n",
    "print (\"Pass\" if (stack.size() == 3) else \"Fail\")"
   ]
  },
  {
   "cell_type": "markdown",
   "metadata": {},
   "source": [
    "## Building a Stack in Python\n",
    "\n",
    "**Use Python built-in data structure list() to create a stack!**\n",
    "\n",
    "A stack is a data structure that consists of two main operations: `push` and `pop`. A `push` is when adding an element to the **top of the stack** and a pop is when removing an element from **the top of the stack**. Python 3.x conviently allows to demonstate this functionality with a list. E.g. we have a list such as [2,4,5,6] we can decide which end of the list is the bottom and the top of the stack respectivley. Once we decide that, we can use the append, pop or insert function to simulate a stack. **We will choose the first element to be the bottom of our stack** and therefore be using the append and pop functions to simulate it."
   ]
  },
  {
   "cell_type": "code",
   "execution_count": 82,
   "metadata": {},
   "outputs": [],
   "source": [
    "class Stack:\n",
    "    def __init__(self):\n",
    "     # Initialize the Stack\n",
    "        self.items = []\n",
    "    \n",
    "    def size(self):\n",
    "     # Check the size of the Stack\n",
    "        return len(self.items)\n",
    "    \n",
    "    def push(self, item):\n",
    "     # Push item onto Stack\n",
    "        self.items.append(item)\n",
    "\n",
    "    def pop(self):\n",
    "     # Pop item off of the Stack\n",
    "        if not len(self.items):\n",
    "            return\n",
    "        else:\n",
    "            return self.items.pop()"
   ]
  },
  {
   "cell_type": "code",
   "execution_count": 83,
   "metadata": {},
   "outputs": [
    {
     "name": "stdout",
     "output_type": "stream",
     "text": [
      "['Web Page 1', 'Web Page 2', 'Web Page 3']\n",
      "Pass\n",
      "Pass\n"
     ]
    }
   ],
   "source": [
    "MyStack = Stack()\n",
    "\n",
    "MyStack.push(\"Web Page 1\")\n",
    "MyStack.push(\"Web Page 2\")\n",
    "MyStack.push(\"Web Page 3\")\n",
    "\n",
    "print (MyStack.items)\n",
    "\n",
    "MyStack.pop()\n",
    "MyStack.pop()\n",
    "\n",
    "print (\"Pass\" if (MyStack.items[0] == 'Web Page 1') else \"Fail\")\n",
    "\n",
    "MyStack.pop()\n",
    "\n",
    "print (\"Pass\" if (MyStack.pop() == None) else \"Fail\")"
   ]
  },
  {
   "cell_type": "code",
   "execution_count": null,
   "metadata": {},
   "outputs": [],
   "source": []
  }
 ],
 "metadata": {
  "kernelspec": {
   "display_name": "Python 3",
   "language": "python",
   "name": "python3"
  },
  "language_info": {
   "codemirror_mode": {
    "name": "ipython",
    "version": 3
   },
   "file_extension": ".py",
   "mimetype": "text/x-python",
   "name": "python",
   "nbconvert_exporter": "python",
   "pygments_lexer": "ipython3",
   "version": "3.7.9"
  }
 },
 "nbformat": 4,
 "nbformat_minor": 4
}
